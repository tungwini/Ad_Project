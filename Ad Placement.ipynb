{
 "cells": [
  {
   "cell_type": "markdown",
   "metadata": {},
   "source": [
    "# MAd Men\n",
    "<img src=\"title-card.png\">"
   ]
  },
  {
   "cell_type": "markdown",
   "metadata": {},
   "source": [
    "## Project: The Advertising Firm\n",
    "\n",
    "We are an ad agency working on personalizing ads, so that you aren't bothered by ads you don’t care about, and only see stuff you may be interested in. \n",
    "\n",
    "We are promoting a product that people with income <50k are not interested in. \n",
    "**We want to market to people with income greater then $50,000**\n",
    "\n",
    "We start with census data (94-95) on demographics, age, education, country, occupation, income, etc.\n",
    "The data was split into train/test in approximately 2/3, 1/3 split."
   ]
  },
  {
   "cell_type": "code",
   "execution_count": 1,
   "metadata": {
    "collapsed": true
   },
   "outputs": [],
   "source": [
    "import os\n",
    "import pandas as pd\n",
    "import numpy as np"
   ]
  },
  {
   "cell_type": "code",
   "execution_count": 2,
   "metadata": {
    "collapsed": true
   },
   "outputs": [],
   "source": [
    "import data_prep\n",
    "ROOT_DIR = os.path.dirname('data/')\n",
    "\n",
    "train_file_path = os.path.abspath(os.path.join(ROOT_DIR, 'census-income.csv'))\n",
    "data1=data_prep.load_file(train_file_path)\n",
    "train_df=data_prep.clean_data(data1)\n",
    "\n",
    "test_file_path = os.path.abspath(os.path.join(ROOT_DIR, 'census-income-test.csv'))\n",
    "data2=data_prep.load_file(test_file_path)\n",
    "test_df=data_prep.clean_data(data2)"
   ]
  },
  {
   "cell_type": "code",
   "execution_count": 3,
   "metadata": {
    "collapsed": false
   },
   "outputs": [
    {
     "data": {
      "text/html": [
       "<div>\n",
       "<table border=\"1\" class=\"dataframe\">\n",
       "  <thead>\n",
       "    <tr style=\"text-align: right;\">\n",
       "      <th></th>\n",
       "      <th>target</th>\n",
       "      <th>detailed_hsld_smry_1</th>\n",
       "      <th>region_prev_res_1</th>\n",
       "      <th>marital_status_1</th>\n",
       "      <th>marital_status_2</th>\n",
       "      <th>worker_class_1</th>\n",
       "      <th>worker_class_2</th>\n",
       "      <th>worker_class_3</th>\n",
       "      <th>age</th>\n",
       "      <th>wage</th>\n",
       "      <th>...</th>\n",
       "      <th>education_2</th>\n",
       "      <th>migration_1</th>\n",
       "      <th>detailed_occ_cd_A</th>\n",
       "      <th>detailed_occ_cd_B</th>\n",
       "      <th>detailed_occ_cd_C</th>\n",
       "      <th>detailed_occ_cd_D</th>\n",
       "      <th>detailed_ind_cd_A</th>\n",
       "      <th>detailed_ind_cd_B</th>\n",
       "      <th>detailed_ind_cd_C</th>\n",
       "      <th>detailed_ind_cd_D</th>\n",
       "    </tr>\n",
       "  </thead>\n",
       "  <tbody>\n",
       "    <tr>\n",
       "      <th>0</th>\n",
       "      <td>0</td>\n",
       "      <td>0</td>\n",
       "      <td>0</td>\n",
       "      <td>0</td>\n",
       "      <td>0</td>\n",
       "      <td>0</td>\n",
       "      <td>0</td>\n",
       "      <td>0</td>\n",
       "      <td>58</td>\n",
       "      <td>0</td>\n",
       "      <td>...</td>\n",
       "      <td>0</td>\n",
       "      <td>0</td>\n",
       "      <td>0.0</td>\n",
       "      <td>0.0</td>\n",
       "      <td>1.0</td>\n",
       "      <td>0.0</td>\n",
       "      <td>0.0</td>\n",
       "      <td>0.0</td>\n",
       "      <td>1.0</td>\n",
       "      <td>0.0</td>\n",
       "    </tr>\n",
       "    <tr>\n",
       "      <th>1</th>\n",
       "      <td>0</td>\n",
       "      <td>0</td>\n",
       "      <td>0</td>\n",
       "      <td>0</td>\n",
       "      <td>0</td>\n",
       "      <td>0</td>\n",
       "      <td>0</td>\n",
       "      <td>0</td>\n",
       "      <td>18</td>\n",
       "      <td>0</td>\n",
       "      <td>...</td>\n",
       "      <td>0</td>\n",
       "      <td>1</td>\n",
       "      <td>0.0</td>\n",
       "      <td>0.0</td>\n",
       "      <td>0.0</td>\n",
       "      <td>1.0</td>\n",
       "      <td>0.0</td>\n",
       "      <td>0.0</td>\n",
       "      <td>0.0</td>\n",
       "      <td>1.0</td>\n",
       "    </tr>\n",
       "    <tr>\n",
       "      <th>2</th>\n",
       "      <td>0</td>\n",
       "      <td>0</td>\n",
       "      <td>0</td>\n",
       "      <td>0</td>\n",
       "      <td>0</td>\n",
       "      <td>0</td>\n",
       "      <td>0</td>\n",
       "      <td>0</td>\n",
       "      <td>9</td>\n",
       "      <td>0</td>\n",
       "      <td>...</td>\n",
       "      <td>0</td>\n",
       "      <td>1</td>\n",
       "      <td>0.0</td>\n",
       "      <td>0.0</td>\n",
       "      <td>0.0</td>\n",
       "      <td>1.0</td>\n",
       "      <td>0.0</td>\n",
       "      <td>0.0</td>\n",
       "      <td>0.0</td>\n",
       "      <td>1.0</td>\n",
       "    </tr>\n",
       "  </tbody>\n",
       "</table>\n",
       "<p>3 rows × 41 columns</p>\n",
       "</div>"
      ],
      "text/plain": [
       "   target  detailed_hsld_smry_1  region_prev_res_1  marital_status_1  \\\n",
       "0       0                     0                  0                 0   \n",
       "1       0                     0                  0                 0   \n",
       "2       0                     0                  0                 0   \n",
       "\n",
       "   marital_status_2  worker_class_1  worker_class_2  worker_class_3  age  \\\n",
       "0                 0               0               0               0   58   \n",
       "1                 0               0               0               0   18   \n",
       "2                 0               0               0               0    9   \n",
       "\n",
       "   wage        ...          education_2  migration_1  detailed_occ_cd_A  \\\n",
       "0     0        ...                    0            0                0.0   \n",
       "1     0        ...                    0            1                0.0   \n",
       "2     0        ...                    0            1                0.0   \n",
       "\n",
       "   detailed_occ_cd_B  detailed_occ_cd_C  detailed_occ_cd_D  detailed_ind_cd_A  \\\n",
       "0                0.0                1.0                0.0                0.0   \n",
       "1                0.0                0.0                1.0                0.0   \n",
       "2                0.0                0.0                1.0                0.0   \n",
       "\n",
       "   detailed_ind_cd_B  detailed_ind_cd_C  detailed_ind_cd_D  \n",
       "0                0.0                1.0                0.0  \n",
       "1                0.0                0.0                1.0  \n",
       "2                0.0                0.0                1.0  \n",
       "\n",
       "[3 rows x 41 columns]"
      ]
     },
     "execution_count": 3,
     "metadata": {},
     "output_type": "execute_result"
    }
   ],
   "source": [
    "train_df.head(3)"
   ]
  },
  {
   "cell_type": "code",
   "execution_count": 4,
   "metadata": {
    "collapsed": false
   },
   "outputs": [
    {
     "data": {
      "text/html": [
       "<div>\n",
       "<table border=\"1\" class=\"dataframe\">\n",
       "  <thead>\n",
       "    <tr style=\"text-align: right;\">\n",
       "      <th></th>\n",
       "      <th>target</th>\n",
       "      <th>detailed_hsld_smry_1</th>\n",
       "      <th>region_prev_res_1</th>\n",
       "      <th>marital_status_1</th>\n",
       "      <th>marital_status_2</th>\n",
       "      <th>worker_class_1</th>\n",
       "      <th>worker_class_2</th>\n",
       "      <th>worker_class_3</th>\n",
       "      <th>age</th>\n",
       "      <th>wage</th>\n",
       "      <th>...</th>\n",
       "      <th>education_2</th>\n",
       "      <th>migration_1</th>\n",
       "      <th>detailed_occ_cd_A</th>\n",
       "      <th>detailed_occ_cd_B</th>\n",
       "      <th>detailed_occ_cd_C</th>\n",
       "      <th>detailed_occ_cd_D</th>\n",
       "      <th>detailed_ind_cd_A</th>\n",
       "      <th>detailed_ind_cd_B</th>\n",
       "      <th>detailed_ind_cd_C</th>\n",
       "      <th>detailed_ind_cd_D</th>\n",
       "    </tr>\n",
       "  </thead>\n",
       "  <tbody>\n",
       "    <tr>\n",
       "      <th>0</th>\n",
       "      <td>0</td>\n",
       "      <td>0</td>\n",
       "      <td>0</td>\n",
       "      <td>0</td>\n",
       "      <td>0</td>\n",
       "      <td>0</td>\n",
       "      <td>0</td>\n",
       "      <td>0</td>\n",
       "      <td>44</td>\n",
       "      <td>0</td>\n",
       "      <td>...</td>\n",
       "      <td>0</td>\n",
       "      <td>1</td>\n",
       "      <td>0.0</td>\n",
       "      <td>1.0</td>\n",
       "      <td>0.0</td>\n",
       "      <td>0.0</td>\n",
       "      <td>0.0</td>\n",
       "      <td>1.0</td>\n",
       "      <td>0.0</td>\n",
       "      <td>0.0</td>\n",
       "    </tr>\n",
       "    <tr>\n",
       "      <th>1</th>\n",
       "      <td>0</td>\n",
       "      <td>0</td>\n",
       "      <td>0</td>\n",
       "      <td>0</td>\n",
       "      <td>0</td>\n",
       "      <td>0</td>\n",
       "      <td>0</td>\n",
       "      <td>0</td>\n",
       "      <td>2</td>\n",
       "      <td>0</td>\n",
       "      <td>...</td>\n",
       "      <td>0</td>\n",
       "      <td>1</td>\n",
       "      <td>0.0</td>\n",
       "      <td>0.0</td>\n",
       "      <td>0.0</td>\n",
       "      <td>1.0</td>\n",
       "      <td>0.0</td>\n",
       "      <td>0.0</td>\n",
       "      <td>0.0</td>\n",
       "      <td>1.0</td>\n",
       "    </tr>\n",
       "    <tr>\n",
       "      <th>2</th>\n",
       "      <td>0</td>\n",
       "      <td>0</td>\n",
       "      <td>0</td>\n",
       "      <td>0</td>\n",
       "      <td>0</td>\n",
       "      <td>0</td>\n",
       "      <td>0</td>\n",
       "      <td>0</td>\n",
       "      <td>35</td>\n",
       "      <td>0</td>\n",
       "      <td>...</td>\n",
       "      <td>0</td>\n",
       "      <td>1</td>\n",
       "      <td>1.0</td>\n",
       "      <td>0.0</td>\n",
       "      <td>0.0</td>\n",
       "      <td>0.0</td>\n",
       "      <td>0.0</td>\n",
       "      <td>1.0</td>\n",
       "      <td>0.0</td>\n",
       "      <td>0.0</td>\n",
       "    </tr>\n",
       "  </tbody>\n",
       "</table>\n",
       "<p>3 rows × 41 columns</p>\n",
       "</div>"
      ],
      "text/plain": [
       "   target  detailed_hsld_smry_1  region_prev_res_1  marital_status_1  \\\n",
       "0       0                     0                  0                 0   \n",
       "1       0                     0                  0                 0   \n",
       "2       0                     0                  0                 0   \n",
       "\n",
       "   marital_status_2  worker_class_1  worker_class_2  worker_class_3  age  \\\n",
       "0                 0               0               0               0   44   \n",
       "1                 0               0               0               0    2   \n",
       "2                 0               0               0               0   35   \n",
       "\n",
       "   wage        ...          education_2  migration_1  detailed_occ_cd_A  \\\n",
       "0     0        ...                    0            1                0.0   \n",
       "1     0        ...                    0            1                0.0   \n",
       "2     0        ...                    0            1                1.0   \n",
       "\n",
       "   detailed_occ_cd_B  detailed_occ_cd_C  detailed_occ_cd_D  detailed_ind_cd_A  \\\n",
       "0                1.0                0.0                0.0                0.0   \n",
       "1                0.0                0.0                1.0                0.0   \n",
       "2                0.0                0.0                0.0                0.0   \n",
       "\n",
       "   detailed_ind_cd_B  detailed_ind_cd_C  detailed_ind_cd_D  \n",
       "0                1.0                0.0                0.0  \n",
       "1                0.0                0.0                1.0  \n",
       "2                1.0                0.0                0.0  \n",
       "\n",
       "[3 rows x 41 columns]"
      ]
     },
     "execution_count": 4,
     "metadata": {},
     "output_type": "execute_result"
    }
   ],
   "source": [
    "test_df.head(3)"
   ]
  },
  {
   "cell_type": "code",
   "execution_count": 5,
   "metadata": {
    "collapsed": false
   },
   "outputs": [
    {
     "ename": "TypeError",
     "evalue": "'tuple' object is not callable",
     "output_type": "error",
     "traceback": [
      "\u001b[0;31m---------------------------------------------------------------------------\u001b[0m",
      "\u001b[0;31mTypeError\u001b[0m                                 Traceback (most recent call last)",
      "\u001b[0;32m<ipython-input-5-665855155106>\u001b[0m in \u001b[0;36m<module>\u001b[0;34m()\u001b[0m\n\u001b[0;32m----> 1\u001b[0;31m \u001b[0mtrain_df\u001b[0m\u001b[0;34m.\u001b[0m\u001b[0mshape\u001b[0m\u001b[0;34m(\u001b[0m\u001b[0;34m)\u001b[0m\u001b[0;34m\u001b[0m\u001b[0m\n\u001b[0m",
      "\u001b[0;31mTypeError\u001b[0m: 'tuple' object is not callable"
     ]
    }
   ],
   "source": [
    "train_df.shape()\n"
   ]
  },
  {
   "cell_type": "code",
   "execution_count": 7,
   "metadata": {
    "collapsed": false
   },
   "outputs": [
    {
     "data": {
      "text/plain": [
       "(196293, 69)"
      ]
     },
     "execution_count": 7,
     "metadata": {},
     "output_type": "execute_result"
    }
   ],
   "source": [
    "data1.shape"
   ]
  },
  {
   "cell_type": "code",
   "execution_count": 8,
   "metadata": {
    "collapsed": true
   },
   "outputs": [],
   "source": [
    "data=pd.read_csv(train_file_path)\n",
    "data.columns = ['age', 'worker_class', 'detailed_ind_cd', 'detailed_occ_cd',\n",
    "                'education', 'wage', 'enrolled_last_wk', 'marital_status', \n",
    "                'major_ind_cd', 'major_occ_cd', 'race', 'hispanic_origin',\n",
    "                'sex', 'member_labour_union', 'unemployment_reason', 'employment_status', \n",
    "                'capital_gains',  'capital_losses',  'dividends', 'tax_filer',\n",
    "                'region_prev_res', 'state_prev_res', 'detailed_hsld_stat', 'detailed_hsld_smry', 'weight',\n",
    "                'migration_cd_msa', 'migration_cd_reg', 'migration_cd_within_reg', 'same_house_prev_yr', \n",
    "                'migration_prev_reg_sunbelt', 'no_persons_worked_for_employer', 'family_members_under18', \n",
    "                'birth_country_father', 'birth_country_mother','birth_country', 'citizenship',\n",
    "                'occupation', 'fill_inc_question_veteran_admin', 'veteran_benefit',  \n",
    "                'weeks_worked_in_yr',  'year', 'target']"
   ]
  },
  {
   "cell_type": "code",
   "execution_count": 9,
   "metadata": {
    "collapsed": false
   },
   "outputs": [
    {
     "data": {
      "text/plain": [
       "(199522, 42)"
      ]
     },
     "execution_count": 9,
     "metadata": {},
     "output_type": "execute_result"
    }
   ],
   "source": [
    "data.shape"
   ]
  },
  {
   "cell_type": "code",
   "execution_count": 10,
   "metadata": {
    "collapsed": false
   },
   "outputs": [
    {
     "data": {
      "text/plain": [
       "3229"
      ]
     },
     "execution_count": 10,
     "metadata": {},
     "output_type": "execute_result"
    }
   ],
   "source": [
    "199522-196293"
   ]
  },
  {
   "cell_type": "code",
   "execution_count": 18,
   "metadata": {
    "collapsed": false
   },
   "outputs": [
    {
     "name": "stdout",
     "output_type": "stream",
     "text": [
      "worker_class\n",
      "marital_status\n",
      "race\n",
      "hispanic_origin\n",
      "unemployment_reason\n",
      "employment_status\n",
      "tax_filer\n",
      "region_prev_res\n",
      "detailed_hsld_smry\n",
      "migration_cd_msa\n",
      "migration_cd_reg\n",
      "migration_cd_within_reg\n",
      "no_persons_worked_for_employer\n",
      "family_members_under18\n",
      "citizenship\n",
      "15\n"
     ]
    }
   ],
   "source": [
    "cnt=0\n",
    "for col in data.columns:\n",
    "    y =len(pd.unique(data[col]))\n",
    "    if  y>=5 and y<=10:\n",
    "        print col\n",
    "        cnt+=1\n",
    "print cnt"
   ]
  },
  {
   "cell_type": "code",
   "execution_count": 19,
   "metadata": {
    "collapsed": false
   },
   "outputs": [
    {
     "data": {
      "text/plain": [
       "(196293, 41)"
      ]
     },
     "execution_count": 19,
     "metadata": {},
     "output_type": "execute_result"
    }
   ],
   "source": [
    "train_df.shape"
   ]
  },
  {
   "cell_type": "code",
   "execution_count": 20,
   "metadata": {
    "collapsed": false
   },
   "outputs": [
    {
     "data": {
      "text/plain": [
       "Index([u'target', u'detailed_hsld_smry_1', u'region_prev_res_1',\n",
       "       u'marital_status_1', u'marital_status_2', u'worker_class_1',\n",
       "       u'worker_class_2', u'worker_class_3', u'age', u'wage', u'dividends',\n",
       "       u'no_persons_worked_for_employer', u'weeks_worked_in_yr',\n",
       "       u'fill_inc_question_veteran_admin_1', u'sex_1', u'enrolled_last_wk_1',\n",
       "       u'citizenship_1', u'employment_status_1', u'occupation_1',\n",
       "       u'hispanic_origin_1', u'tax_filer_1', u'tax_filer_2', u'year_1',\n",
       "       u'veteran_benefit_1', u'member_labour_union_1', u'race_1',\n",
       "       u'unemployment_reason_1', u'family_members_under18_1',\n",
       "       u'same_house_prev_yr_1', u'capital_gains_1', u'education_1',\n",
       "       u'education_2', u'migration_1', u'detailed_occ_cd_A',\n",
       "       u'detailed_occ_cd_B', u'detailed_occ_cd_C', u'detailed_occ_cd_D',\n",
       "       u'detailed_ind_cd_A', u'detailed_ind_cd_B', u'detailed_ind_cd_C',\n",
       "       u'detailed_ind_cd_D'],\n",
       "      dtype='object')"
      ]
     },
     "execution_count": 20,
     "metadata": {},
     "output_type": "execute_result"
    }
   ],
   "source": [
    "train_df.columns"
   ]
  },
  {
   "cell_type": "code",
   "execution_count": null,
   "metadata": {
    "collapsed": true
   },
   "outputs": [],
   "source": []
  }
 ],
 "metadata": {
  "kernelspec": {
   "display_name": "Python 2",
   "language": "python",
   "name": "python2"
  },
  "language_info": {
   "codemirror_mode": {
    "name": "ipython",
    "version": 2
   },
   "file_extension": ".py",
   "mimetype": "text/x-python",
   "name": "python",
   "nbconvert_exporter": "python",
   "pygments_lexer": "ipython2",
   "version": "2.7.9"
  }
 },
 "nbformat": 4,
 "nbformat_minor": 0
}
